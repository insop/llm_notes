{
 "cells": [
  {
   "attachments": {},
   "cell_type": "markdown",
   "metadata": {},
   "source": [
    "# Introduction to the prompt engineering\n",
    "\n",
    "**NOTE:** Some parts of this notebook are adaptations of [deeplearning.ai, ChatGPT Prompt Engineering for Developers](https://www.deeplearning.ai/short-courses/chatgpt-prompt-engineering-for-developers/)"
   ]
  },
  {
   "attachments": {},
   "cell_type": "markdown",
   "metadata": {},
   "source": [
    "## Configurations"
   ]
  },
  {
   "cell_type": "code",
   "execution_count": 1,
   "metadata": {},
   "outputs": [],
   "source": [
    "import os\n",
    "\n",
    "import json\n",
    "import pandas as pd\n",
    "import numpy as np\n",
    "from openai.embeddings_utils import distances_from_embeddings, cosine_similarity\n",
    "from redlines import Redlines\n",
    "from IPython.display import display, Markdown, Latex, HTML, JSON\n",
    "\n",
    "# setup openai\n",
    "import openai\n",
    "from dotenv import load_dotenv\n",
    "\n",
    "#https://stackoverflow.com/questions/36288670/how-to-programmatically-generate-markdown-output-in-jupyter-notebooks\n",
    "from IPython.display import display, HTML\n",
    "\n",
    "from redlines import Redlines\n",
    "from IPython.display import display, Markdown, Latex, HTML, JSON\n",
    "\n",
    "\n",
    "pd.set_option('max_colwidth', 800)\n",
    "\n",
    "\n",
    "def printmd(string):  ###\n",
    "    display(Markdown(string))  ###"
   ]
  },
  {
   "cell_type": "code",
   "execution_count": 2,
   "metadata": {},
   "outputs": [],
   "source": [
    "max_tokens = 500\n",
    "embedding_model = 'text-embedding-ada-002'\n",
    "model = 'text-davinci-003'"
   ]
  },
  {
   "attachments": {},
   "cell_type": "markdown",
   "metadata": {},
   "source": [
    "*NOTE*: to use OpenAI diretly, you need to update the following config and API calls slightly."
   ]
  },
  {
   "cell_type": "code",
   "execution_count": 3,
   "metadata": {},
   "outputs": [],
   "source": [
    "# NOTE: Set up Azure OpenAI\n",
    "load_dotenv()\n",
    "openai.api_type = os.getenv(\"OPENAI_API_TYPE\")\n",
    "openai.api_base = os.getenv(\"OPENAI_API_BASE\")\n",
    "openai.api_version = os.getenv(\"OPENAI_API_CHAT_VERSION\") # chatgpt\n",
    "# openai.api_version = os.getenv(\"OPENAI_API_VERSION\") # davinci\n",
    "openai.api_key = os.getenv(\"OPENAI_API_KEY\")"
   ]
  },
  {
   "attachments": {},
   "cell_type": "markdown",
   "metadata": {},
   "source": [
    "## API calls"
   ]
  },
  {
   "attachments": {},
   "cell_type": "markdown",
   "metadata": {},
   "source": [
    "### ChatGPT calls"
   ]
  },
  {
   "cell_type": "code",
   "execution_count": 4,
   "metadata": {},
   "outputs": [],
   "source": [
    "def get_completion_chat(prompt, model=\"gpt-3.5-turbo\", temperature=0): \n",
    "    messages = [{\"role\": \"user\", \"content\": prompt}]\n",
    "    response = openai.ChatCompletion.create(\n",
    "        engine=\"chatgpt\",\n",
    "        model=model,\n",
    "        messages=messages,\n",
    "        temperature=temperature, \n",
    "    )\n",
    "    return response.choices[0].message[\"content\"]"
   ]
  },
  {
   "cell_type": "code",
   "execution_count": 5,
   "metadata": {},
   "outputs": [],
   "source": [
    "def get_completion_chat_message(messages, model=\"gpt-3.5-turbo\", temperature=0): \n",
    "\n",
    "    response = openai.ChatCompletion.create(\n",
    "        engine=\"chatgpt\",\n",
    "        model=model,\n",
    "        messages=messages,\n",
    "        temperature=temperature, \n",
    "    )\n",
    "    return response.choices[0].message[\"content\"]"
   ]
  },
  {
   "attachments": {},
   "cell_type": "markdown",
   "metadata": {},
   "source": [
    "### GPT-3.5 API call"
   ]
  },
  {
   "cell_type": "code",
   "execution_count": 6,
   "metadata": {},
   "outputs": [],
   "source": [
    "def get_completion(prompt, model=model, temperature=0): \n",
    "    response = openai.Completion.create(\n",
    "        engine=model,\n",
    "        prompt=prompt,\n",
    "        temperature=temperature,\n",
    "        max_tokens=max_tokens,\n",
    "        # top_p=1,\n",
    "        # frequency_penalty=0,\n",
    "        # presence_penalty=0,\n",
    "        # stop=stop_sequence,\n",
    "        model=model,\n",
    "    )\n",
    "    return response[\"choices\"][0][\"text\"]"
   ]
  },
  {
   "attachments": {},
   "cell_type": "markdown",
   "metadata": {},
   "source": [
    "## Prompt principles\n",
    "\n",
    "- Write a prompt that is as clear and specific as possible"
   ]
  },
  {
   "attachments": {},
   "cell_type": "markdown",
   "metadata": {},
   "source": [
    "### Use delimitors to separate the different parts of the prompt\n",
    "\n",
    "- possible delimitors: ```, \"\"\", ###, <>, `<tag> </tag>`\n",
    "\n",
    "Example is from [here](https://news.microsoft.com/source/features/ai/how-ai-makes-developers-lives-easier-and-helps-everybody-learn-to-develop-software/?culture=en-us&country=us)"
   ]
  },
  {
   "cell_type": "code",
   "execution_count": 7,
   "metadata": {},
   "outputs": [
    {
     "name": "stdout",
     "output_type": "stream",
     "text": [
      "\n",
      "Summarize the text delimited by triple backticks \n",
      "into a single sentence.\n",
      "\n",
      "```\n",
      "Ever since Ada Lovelace, a polymath often considered the first computer programmer,\n",
      "proposed in 1843 using holes punched into cards to solve\n",
      "mathematical equations on a never-built mechanical computer,\n",
      "software developers have been translating their solutions to problems into step-by-step instructions\n",
      "that computers can understand.\n",
      "```\n",
      "\n"
     ]
    }
   ],
   "source": [
    "text = f\"\"\"\n",
    "Ever since Ada Lovelace, a polymath often considered the first computer programmer,\n",
    "proposed in 1843 using holes punched into cards to solve\n",
    "mathematical equations on a never-built mechanical computer,\n",
    "software developers have been translating their solutions to problems into step-by-step instructions\n",
    "that computers can understand.\n",
    "\"\"\"\n",
    "\n",
    "prompt_long_summary = f\"\"\"\n",
    "Summarize the text delimited by triple backticks \n",
    "into a single sentence.\n",
    "\n",
    "```{text}```\n",
    "\"\"\"\n",
    "\n",
    "print(prompt_long_summary)"
   ]
  },
  {
   "cell_type": "code",
   "execution_count": 8,
   "metadata": {},
   "outputs": [
    {
     "data": {
      "text/markdown": [
       "Software developers have been translating solutions to problems into step-by-step instructions for computers since Ada Lovelace proposed using punched cards to solve mathematical equations on a mechanical computer in 1843."
      ],
      "text/plain": [
       "<IPython.core.display.Markdown object>"
      ]
     },
     "metadata": {},
     "output_type": "display_data"
    }
   ],
   "source": [
    "\n",
    "response = get_completion_chat(prompt_long_summary)\n",
    "\n",
    "printmd(f\"{response}\")"
   ]
  },
  {
   "attachments": {},
   "cell_type": "markdown",
   "metadata": {},
   "source": [
    "Prompt engineering is an iterative process\n",
    "- make it even shorter summary"
   ]
  },
  {
   "cell_type": "code",
   "execution_count": 9,
   "metadata": {},
   "outputs": [],
   "source": [
    "text = f\"\"\"\n",
    "Ever since Ada Lovelace, a polymath often considered the first computer programmer,\n",
    "proposed in 1843 using holes punched into cards to solve\n",
    "mathematical equations on a never-built mechanical computer,\n",
    "software developers have been translating their solutions to problems into step-by-step instructions\n",
    "that computers can understand.\n",
    "\"\"\"\n",
    "\n",
    "# NOTE that this is added to the prompt\n",
    "# \"Write a sentence that is at most 10 words long.\"\n",
    "\n",
    "prompt_short_summary = f\"\"\"\n",
    "Summarize the text delimited by triple backticks \n",
    "into a single sentence.\n",
    "Write a sentence that is at most 10 words long.\n",
    "\n",
    "```{text}```\n",
    "\"\"\"\n"
   ]
  },
  {
   "cell_type": "code",
   "execution_count": 10,
   "metadata": {},
   "outputs": [
    {
     "data": {
      "text/markdown": [
       "Difference between long and short summary prompt:\n"
      ],
      "text/plain": [
       "<IPython.core.display.Markdown object>"
      ]
     },
     "metadata": {},
     "output_type": "display_data"
    },
    {
     "data": {
      "text/markdown": [
       "Summarize the text delimited by triple backticks \n",
       "into a single <span style=\"color:red;font-weight:700;text-decoration:line-through;\">sentence.\n",
       "\n",
       "</span><span style=\"color:red;font-weight:700;\">sentence.\n",
       "Write a sentence that is at most 10 words long.\n",
       "\n",
       "</span>```\n",
       "Ever since Ada Lovelace, a polymath often considered the first computer programmer,\n",
       "proposed in 1843 using holes punched into cards to solve\n",
       "mathematical equations on a never-built mechanical computer,\n",
       "software developers have been translating their solutions to problems into step-by-step instructions\n",
       "that computers can understand.\n",
       "```\n"
      ],
      "text/plain": [
       "<IPython.core.display.Markdown object>"
      ]
     },
     "metadata": {},
     "output_type": "display_data"
    }
   ],
   "source": [
    "diff = Redlines(prompt_long_summary,prompt_short_summary)\n",
    "display(Markdown(\"Difference between long and short summary prompt:\\n\"))\n",
    "display(Markdown(diff.output_markdown))"
   ]
  },
  {
   "cell_type": "code",
   "execution_count": 11,
   "metadata": {},
   "outputs": [
    {
     "data": {
      "text/markdown": [
       "Ada Lovelace proposed using punched cards for computing."
      ],
      "text/plain": [
       "<IPython.core.display.Markdown object>"
      ]
     },
     "metadata": {},
     "output_type": "display_data"
    }
   ],
   "source": [
    "\n",
    "response = get_completion_chat(prompt_short_summary)\n",
    "printmd(f\"{response}\")"
   ]
  },
  {
   "attachments": {},
   "cell_type": "markdown",
   "metadata": {},
   "source": [
    "### Generate the output in a structure format\n",
    "- JSON, XML, HTML, etc."
   ]
  },
  {
   "cell_type": "code",
   "execution_count": 12,
   "metadata": {},
   "outputs": [
    {
     "data": {
      "text/markdown": [
       "{\n",
       "    \"summary\": \"Software developers have been translating solutions to problems into step-by-step instructions for computers since Ada Lovelace proposed using punched cards to solve mathematical equations in 1843.\"\n",
       "}"
      ],
      "text/plain": [
       "<IPython.core.display.Markdown object>"
      ]
     },
     "metadata": {},
     "output_type": "display_data"
    }
   ],
   "source": [
    "text = f\"\"\"\n",
    "Ever since Ada Lovelace, a polymath often considered the first computer programmer,\n",
    "proposed in 1843 using holes punched into cards to solve\n",
    "mathematical equations on a never-built mechanical computer,\n",
    "software developers have been translating their solutions to problems into step-by-step instructions\n",
    "that computers can understand.\n",
    "\"\"\"\n",
    "\n",
    "prompt = f\"\"\"\n",
    "Summarize the text delimited by triple backticks \\ \n",
    "into a single sentence.\n",
    "Provide the summary in JSON format with the key \"summary\":\n",
    "\n",
    "```{text}```\n",
    "\"\"\"\n",
    "\n",
    "response = get_completion_chat(prompt)\n",
    "\n",
    "printmd(f\"{json.dumps(json.loads(response), indent=4)}\")"
   ]
  },
  {
   "cell_type": "code",
   "execution_count": 13,
   "metadata": {},
   "outputs": [
    {
     "data": {
      "text/html": [
       "<div>\n",
       "<h1>Executive Summary</h1>\n",
       "<p>Software developers have been translating solutions to problems into step-by-step instructions that computers can understand since Ada Lovelace proposed using holes punched into cards to solve mathematical equations on a never-built mechanical computer in 1843.</p>\n",
       "</div>"
      ],
      "text/plain": [
       "<IPython.core.display.HTML object>"
      ]
     },
     "metadata": {},
     "output_type": "display_data"
    }
   ],
   "source": [
    "text = f\"\"\"\n",
    "Ever since Ada Lovelace, a polymath often considered the first computer programmer,\n",
    "proposed in 1843 using holes punched into cards to solve\n",
    "mathematical equations on a never-built mechanical computer,\n",
    "software developers have been translating their solutions to problems into step-by-step instructions\n",
    "that computers can understand.\n",
    "\"\"\"\n",
    "\n",
    "prompt = f\"\"\"\n",
    "Summarize the text delimited by triple backticks \\ \n",
    "into a single sentence.\n",
    "\n",
    "Provide the summary in HTML format.\n",
    "Format everything as HTML that can be used in a website. \n",
    "Place the description in a <div> element.\n",
    "Give the page the title 'Exexutive Summary'\n",
    "\n",
    "```{text}```\n",
    "\"\"\"\n",
    "\n",
    "response = get_completion_chat(prompt)\n",
    "display(HTML(response))\n"
   ]
  },
  {
   "cell_type": "code",
   "execution_count": 14,
   "metadata": {},
   "outputs": [
    {
     "data": {
      "text/plain": [
       "'<div>\\n<h1>Executive Summary</h1>\\n<p>Software developers have been translating solutions to problems into step-by-step instructions that computers can understand since Ada Lovelace proposed using holes punched into cards to solve mathematical equations on a never-built mechanical computer in 1843.</p>\\n</div>'"
      ]
     },
     "execution_count": 14,
     "metadata": {},
     "output_type": "execute_result"
    }
   ],
   "source": [
    "response"
   ]
  },
  {
   "attachments": {},
   "cell_type": "markdown",
   "metadata": {},
   "source": [
    "### Provide examples to model, \"Few-shot learning\"\n",
    "- provide good examples to the model"
   ]
  },
  {
   "attachments": {},
   "cell_type": "markdown",
   "metadata": {},
   "source": [
    "#### An example of generating code summary using linux kernel comment document style\n",
    "- https://github.com/torvalds/linux/blob/master/include/linux/list.h"
   ]
  },
  {
   "cell_type": "code",
   "execution_count": 15,
   "metadata": {},
   "outputs": [
    {
     "name": "stdout",
     "output_type": "stream",
     "text": [
      "\n",
      "You are a skilled developer.\n",
      "You have been asked to review a function deliminated by thriple backticks.\n",
      "Please review the function and provide maximum two lines of clear, helpful,\n",
      "and short documentation comment for the function follow the format of the example:\n",
      "\n",
      "\n",
      "/**\n",
      " * INIT_LIST_HEAD - Initialize a list_head structure\n",
      " * @list: list_head structure to be initialized.\n",
      " *\n",
      " * Initializes the list_head to point to itself.  If it is a list header,\n",
      " * the result is an empty list.\n",
      " */\n",
      "static inline void INIT_LIST_HEAD(struct list_head *list)\n",
      "{\n",
      "\tWRITE_ONCE(list->next, list);\n",
      "\tWRITE_ONCE(list->prev, list);\n",
      "}\n",
      "\n",
      "\n",
      "```\n",
      "static inline void list_replace(struct list_head *old,\n",
      "\t\t\t\tstruct list_head *new)\n",
      "{\n",
      "\tnew->next = old->next;\n",
      "\tnew->next->prev = new;\n",
      "\tnew->prev = old->prev;\n",
      "\tnew->prev->next = new;\n",
      "}\n",
      "\n",
      "```\n",
      "\n"
     ]
    }
   ],
   "source": [
    "# examples function with comment style we want to document\n",
    "# https://github.com/torvalds/linux/blob/44c026a73be8038f03dbdeef028b642880cf1511/include/linux/list.h#L29\n",
    "example = \"\"\"\n",
    "/**\n",
    " * INIT_LIST_HEAD - Initialize a list_head structure\n",
    " * @list: list_head structure to be initialized.\n",
    " *\n",
    " * Initializes the list_head to point to itself.  If it is a list header,\n",
    " * the result is an empty list.\n",
    " */\n",
    "static inline void INIT_LIST_HEAD(struct list_head *list)\n",
    "{\n",
    "\tWRITE_ONCE(list->next, list);\n",
    "\tWRITE_ONCE(list->prev, list);\n",
    "}\n",
    "\"\"\"\n",
    "\n",
    "# function that we want to document with a comment format as above example\n",
    "# https://github.com/torvalds/linux/blob/44c026a73be8038f03dbdeef028b642880cf1511/include/linux/list.h#LL160C1-L167C2\n",
    "code = \"\"\"\n",
    "static inline void list_replace(struct list_head *old,\n",
    "\t\t\t\tstruct list_head *new)\n",
    "{\n",
    "\tnew->next = old->next;\n",
    "\tnew->next->prev = new;\n",
    "\tnew->prev = old->prev;\n",
    "\tnew->prev->next = new;\n",
    "}\n",
    "\n",
    "\"\"\"\n",
    "prompt = f\"\"\"\n",
    "You are a skilled developer.\n",
    "You have been asked to review a function deliminated by thriple backticks.\n",
    "Please review the function and provide maximum two lines of clear, helpful,\n",
    "and short documentation comment for the function follow the format of the example:\n",
    "\n",
    "{example}\n",
    "\n",
    "```{code}```\n",
    "\"\"\"\n",
    "print(prompt)"
   ]
  },
  {
   "cell_type": "code",
   "execution_count": 16,
   "metadata": {},
   "outputs": [
    {
     "name": "stdout",
     "output_type": "stream",
     "text": [
      " /**\n",
      " * list_replace - Replace an old list_head with a new one\n",
      " * @old: the old list_head to be replaced\n",
      " * @new: the new list_head to replace the old one\n",
      " *\n",
      " * Replaces the old list_head with the new one by updating the next and prev pointers of the surrounding list_heads.\n",
      " */\n"
     ]
    }
   ],
   "source": [
    "response = get_completion_chat(prompt)\n",
    "print(f\" {response}\")"
   ]
  },
  {
   "attachments": {},
   "cell_type": "markdown",
   "metadata": {},
   "source": [
    "You can compare the generated comment with the actual documentation done by the developers, [link](https://github.com/torvalds/linux/blob/44c026a73be8038f03dbdeef028b642880cf1511/include/linux/list.h#LL153C1-L159C4).\n",
    "\n",
    "Generated comments are as good as the actual documentation.\n",
    "\n",
    "```\n",
    "/**\n",
    " * list_replace - replace old entry by new one\n",
    " * @old : the element to be replaced\n",
    " * @new : the new element to insert\n",
    " *\n",
    " * If @old was empty, it will be overwritten.\n",
    " */\n",
    " ```\n"
   ]
  },
  {
   "attachments": {},
   "cell_type": "markdown",
   "metadata": {},
   "source": [
    "### Sentiment analysis\n",
    "- classify the sentiment of the text\n",
    "\n",
    "Example is from [here](https://www.imdb.com/title/tt20869502/reviews?sort=curated&dir=desc&ratingFilter=1)"
   ]
  },
  {
   "cell_type": "code",
   "execution_count": 17,
   "metadata": {},
   "outputs": [
    {
     "data": {
      "text/markdown": [
       "Positive"
      ],
      "text/plain": [
       "<IPython.core.display.Markdown object>"
      ]
     },
     "metadata": {},
     "output_type": "display_data"
    }
   ],
   "source": [
    "text = f\"\"\"\n",
    "It is very rare for me to review a series before finishing it\n",
    "but this was so darn delightful that I could not stop myself sharing the good news.\n",
    "After 3 episodes I wrote that if you are not watching this you are missing out.\n",
    "Also that Eun-bin Park is simply wonderful as the autistic attorney at the centre of this drama,\n",
    "coping so movingly with the challenges she faces.\n",
    "\"\"\"\n",
    "prompt = f\"\"\"\n",
    "What is the sentiment of the following movie review, \n",
    "which is delimited with triple backticks?\n",
    "\n",
    "Review text: '''{text}'''\n",
    "\"\"\"\n",
    "response = get_completion_chat(prompt)\n",
    "printmd(f\"{response}\")\n",
    "\n"
   ]
  },
  {
   "cell_type": "code",
   "execution_count": 18,
   "metadata": {},
   "outputs": [
    {
     "data": {
      "text/markdown": [
       "-0.4"
      ],
      "text/plain": [
       "<IPython.core.display.Markdown object>"
      ]
     },
     "metadata": {},
     "output_type": "display_data"
    }
   ],
   "source": [
    "text = f\"\"\"\n",
    "It's not whether you have autism disorder or not; instead,\n",
    "it is actually called autism spectrum disorder and every autistic person's character could be\n",
    "very different from the other. However, the main character of Extraordinary Attorney Woo strengthen\n",
    "the stereotype of autistic person, who is not familiar with facial expressions of people,\n",
    "not looking at the other people they are talking to, specially interested in specific things,\n",
    "has a preference of neat and organized things, has a extremely good memories then ordinary people,\n",
    "is afraid of noise and sounds, and, last but not least, is a genius.\n",
    "\"\"\"\n",
    "# additional prompt text: \"Provide the sentiment as a number between -1 and 1.\"\n",
    "prompt = f\"\"\"\n",
    "What is the sentiment of the following product review, \n",
    "which is delimited with triple backticks?\n",
    "Provide the sentiment as a number between -1 and 1.\n",
    "\n",
    "Review text: '''{text}'''\n",
    "\"\"\"\n",
    "response = get_completion_chat(prompt)\n",
    "printmd(f\"{response}\")"
   ]
  },
  {
   "attachments": {},
   "cell_type": "markdown",
   "metadata": {},
   "source": [
    "Extract information from the text:"
   ]
  },
  {
   "cell_type": "code",
   "execution_count": 19,
   "metadata": {},
   "outputs": [
    {
     "data": {
      "text/markdown": [
       "The character name is Woo."
      ],
      "text/plain": [
       "<IPython.core.display.Markdown object>"
      ]
     },
     "metadata": {},
     "output_type": "display_data"
    }
   ],
   "source": [
    "text = f\"\"\"\n",
    "It's not whether you have autism disorder or not; instead,\n",
    "it is actually called autism spectrum disorder and every autistic person's character could be\n",
    "very different from the other. However, the main character of Extraordinary Attorney Woo strengthen\n",
    "the stereotype of autistic person, who is not familiar with facial expressions of people,\n",
    "not looking at the other people they are talking to, specially interested in specific things,\n",
    "has a preference of neat and organized things, has a extremely good memories then ordinary people,\n",
    "is afraid of noise and sounds, and, last but not least, is a genius.\n",
    "\"\"\"\n",
    "\n",
    "prompt = f\"\"\"\n",
    "What is the character name of the show?\n",
    "\n",
    "Text: '''{text}'''\n",
    "\"\"\"\n",
    "response = get_completion_chat(prompt)\n",
    "printmd(f\"{response}\")"
   ]
  }
 ],
 "metadata": {
  "kernelspec": {
   "display_name": "pytorch_env",
   "language": "python",
   "name": "python3"
  },
  "language_info": {
   "codemirror_mode": {
    "name": "ipython",
    "version": 3
   },
   "file_extension": ".py",
   "mimetype": "text/x-python",
   "name": "python",
   "nbconvert_exporter": "python",
   "pygments_lexer": "ipython3",
   "version": "3.8.12"
  },
  "orig_nbformat": 4
 },
 "nbformat": 4,
 "nbformat_minor": 2
}
