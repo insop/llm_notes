{
 "cells": [
  {
   "attachments": {},
   "cell_type": "markdown",
   "metadata": {},
   "source": [
    "# Notebook for proof reading\n",
    "\n",
    "**NOTE:** Some part this notebook is from [deeplearning.ai, ChatGPT Prompt Engineering for Developers](https://www.deeplearning.ai/short-courses/chatgpt-prompt-engineering-for-developers/)"
   ]
  },
  {
   "cell_type": "code",
   "execution_count": 1,
   "metadata": {},
   "outputs": [],
   "source": [
    "import os\n",
    "\n",
    "import time\n",
    "\n",
    "import pandas as pd\n",
    "import numpy as np\n",
    "from openai.embeddings_utils import distances_from_embeddings, cosine_similarity\n",
    "from redlines import Redlines\n",
    "from IPython.display import display, Markdown, Latex, HTML, JSON\n"
   ]
  },
  {
   "cell_type": "code",
   "execution_count": 2,
   "metadata": {},
   "outputs": [],
   "source": [
    "max_tokens = 500\n",
    "embedding_model = 'text-embedding-ada-002'\n",
    "model = 'text-davinci-003'"
   ]
  },
  {
   "cell_type": "code",
   "execution_count": 3,
   "metadata": {},
   "outputs": [],
   "source": [
    "import openai\n",
    "\n",
    "# setup openai\n",
    "import os\n",
    "import openai\n",
    "from dotenv import load_dotenv\n",
    "\n",
    "# Set up Azure OpenAI\n",
    "load_dotenv()\n",
    "openai.api_type = os.getenv(\"OPENAI_API_TYPE\")\n",
    "openai.api_base = os.getenv(\"OPENAI_API_BASE\")\n",
    "openai.api_version = os.getenv(\"OPENAI_API_CHAT_VERSION\") # chatgpt\n",
    "# openai.api_version = os.getenv(\"OPENAI_API_VERSION\") # davinci\n",
    "openai.api_key = os.getenv(\"OPENAI_API_KEY\")"
   ]
  },
  {
   "cell_type": "code",
   "execution_count": 4,
   "metadata": {},
   "outputs": [],
   "source": [
    "def get_completion_chat(prompt, model=\"gpt-3.5-turbo\", temperature=0): \n",
    "    messages = [{\"role\": \"user\", \"content\": prompt}]\n",
    "    response = openai.ChatCompletion.create(\n",
    "        engine=\"chatgpt\",\n",
    "        # model=model,\n",
    "        messages=messages,\n",
    "        temperature=temperature, \n",
    "    )\n",
    "    return response.choices[0].message[\"content\"]"
   ]
  },
  {
   "cell_type": "code",
   "execution_count": 5,
   "metadata": {},
   "outputs": [],
   "source": [
    "def get_completion_chat_message(messages, model=\"gpt-3.5-turbo\", temperature=0): \n",
    "\n",
    "    response = openai.ChatCompletion.create(\n",
    "        engine=\"chatgpt\",\n",
    "        # model=model,\n",
    "        messages=messages,\n",
    "        temperature=temperature, \n",
    "    )\n",
    "    return response.choices[0].message[\"content\"]"
   ]
  },
  {
   "cell_type": "code",
   "execution_count": 6,
   "metadata": {},
   "outputs": [],
   "source": [
    "def get_completion_from_messages(messages, model=\"gpt-3.5-turbo\", temperature=0):\n",
    "    response = openai.ChatCompletion.create(\n",
    "        model=model,\n",
    "        messages=messages,\n",
    "        temperature=temperature, # this is the degree of randomness of the model's output\n",
    "    )\n",
    "#     print(str(response.choices[0].message))\n",
    "    return response.choices[0].message[\"content\"]"
   ]
  },
  {
   "cell_type": "code",
   "execution_count": 7,
   "metadata": {},
   "outputs": [],
   "source": [
    "def get_completion(prompt, model=model, temperature=0): \n",
    "    messages = [{\"role\": \"user\", \"content\": prompt}]\n",
    "    response = openai.Completion.create(\n",
    "        engine=model,\n",
    "        prompt=prompt,\n",
    "        temperature=temperature,\n",
    "        max_tokens=max_tokens,\n",
    "        # top_p=1,\n",
    "        # frequency_penalty=0,\n",
    "        # presence_penalty=0,\n",
    "        # stop=stop_sequence,\n",
    "        model=model,\n",
    "    )\n",
    "    # return response.choices[0].message[\"content\"]\n",
    "    return response[\"choices\"][0][\"text\"]"
   ]
  },
  {
   "attachments": {},
   "cell_type": "markdown",
   "metadata": {},
   "source": [
    "## Proof read\n",
    "\n",
    "Manually add text:"
   ]
  },
  {
   "cell_type": "code",
   "execution_count": 8,
   "metadata": {},
   "outputs": [],
   "source": [
    "def proof_read_chatgpt(text, debug=False):\n",
    "    def prepare_prompt(text):\n",
    "        # prompt = f\"proofread and correct the following text: ```{text}```\"\n",
    "        prompt = f\"\"\"Proofread and correct the following text\n",
    "        and rewrite the corrected version. If you don't find\n",
    "        and errors, just say \"No errors found\". Don't use \n",
    "        any punctuation around the text:\n",
    "        ```{text}```\"\"\"\n",
    "        return prompt\n",
    "    \n",
    "    prompt = prepare_prompt(text)\n",
    "    if debug:\n",
    "        print(prompt)\n",
    "    # response = get_completion(prompt)\n",
    "    response = get_completion_chat(prompt)\n",
    "    print(f\"Original input:\\n{response}\")\n",
    "    print(f\"Corrected output:\")\n",
    "\n",
    "    if response == \"No errors found.\":\n",
    "        return response\n",
    "    diff = Redlines(text,response)\n",
    "    display(Markdown(diff.output_markdown))\n",
    "    return response\n",
    "\n"
   ]
  },
  {
   "cell_type": "code",
   "execution_count": 9,
   "metadata": {},
   "outputs": [
    {
     "name": "stdout",
     "output_type": "stream",
     "text": [
      "Original input:\n",
      "The girl with the black and white puppies has a ball.\n",
      "Corrected output:\n"
     ]
    },
    {
     "data": {
      "text/markdown": [
       "The girl with the black and white puppies <span style=\"color:red;font-weight:700;text-decoration:line-through;\">have </span><span style=\"color:red;font-weight:700;\">has </span>a <span style=\"color:red;font-weight:700;text-decoration:line-through;\">ball\n",
       "</span><span style=\"color:red;font-weight:700;\">ball.</span>"
      ],
      "text/plain": [
       "<IPython.core.display.Markdown object>"
      ]
     },
     "metadata": {},
     "output_type": "display_data"
    },
    {
     "data": {
      "text/plain": [
       "'The girl with the black and white puppies has a ball.'"
      ]
     },
     "execution_count": 9,
     "metadata": {},
     "output_type": "execute_result"
    }
   ],
   "source": [
    "text =f\"\"\"\n",
    "The girl with the black and white puppies have a ball\n",
    "\"\"\"\n",
    "proof_read_chatgpt(text, debug=False)"
   ]
  }
 ],
 "metadata": {
  "kernelspec": {
   "display_name": "Python 3 (ipykernel)",
   "language": "python",
   "name": "python3"
  },
  "language_info": {
   "codemirror_mode": {
    "name": "ipython",
    "version": 3
   },
   "file_extension": ".py",
   "mimetype": "text/x-python",
   "name": "python",
   "nbconvert_exporter": "python",
   "pygments_lexer": "ipython3",
   "version": "3.8.12"
  }
 },
 "nbformat": 4,
 "nbformat_minor": 2
}
